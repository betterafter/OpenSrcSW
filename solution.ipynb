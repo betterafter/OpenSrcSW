{
 "cells": [
  {
   "cell_type": "code",
   "execution_count": 5,
   "id": "db804f7e",
   "metadata": {},
   "outputs": [
    {
     "name": "stdout",
     "output_type": "stream",
     "text": [
      "( 1 , 2 )\n",
      "( 3 , 4 )\n",
      "( 4 , 6 )\n"
     ]
    }
   ],
   "source": [
    "class Point:\n",
    "    def __init__(self, a, b):\n",
    "        self.x = a\n",
    "        self.y = b\n",
    "        \n",
    "    def __add__(self, o):\n",
    "        self.x = self.x + o.x\n",
    "        self.y = self.y + o.y\n",
    "        \n",
    "        return self\n",
    "    \n",
    "    def show(self):\n",
    "        print('(',self.x, ',', self.y, ')')\n",
    "\n",
    "a = Point(1,2)\n",
    "a.show()\n",
    "\n",
    "\n",
    "b = Point(3,4)\n",
    "b.show()\n",
    "\n",
    "\n",
    "a = a + b\n",
    "a.show()\n"
   ]
  },
  {
   "cell_type": "code",
   "execution_count": 42,
   "id": "51f78a1c",
   "metadata": {},
   "outputs": [
    {
     "name": "stdout",
     "output_type": "stream",
     "text": [
      "Max Week = 5/ 11 ~ 5/ 17\n"
     ]
    }
   ],
   "source": [
    "import csv\n",
    "f = open(\"./seoul.csv\", encoding='cp949')\n",
    "data = csv.reader(f)\n",
    "next(data)\n",
    "\n",
    "\n",
    "idx = 0\n",
    "s = 0\n",
    "date = []\n",
    "\n",
    "for d in data:\n",
    "    if d[0] <= '2021-05-25':\n",
    "        s = 0\n",
    "        for i in range(7):\n",
    "            s = s + float(d[4]) - float(d[3])\n",
    "        date.append(s)\n",
    "        s = 0\n",
    "\n",
    "maxTemp = 0\n",
    "maxIdx = -1\n",
    "for i in range(len(date)):\n",
    "    if maxTemp < date[i]:\n",
    "        maxTemp = date[i]\n",
    "        maxIdx = i\n",
    "\n",
    "\n",
    "print('Max Week = 5/', maxIdx + 1, '~', '5/', maxIdx + 7)"
   ]
  },
  {
   "cell_type": "code",
   "execution_count": 63,
   "id": "5f1bb2a9",
   "metadata": {},
   "outputs": [
    {
     "name": "stderr",
     "output_type": "stream",
     "text": [
      "No handles with labels found to put in legend.\n"
     ]
    },
    {
     "name": "stdout",
     "output_type": "stream",
     "text": [
      "0.5\n",
      "0.75\n",
      "0.6666666666666666\n"
     ]
    },
    {
     "data": {
      "image/png": "[encoded data removed]",
      "text/plain": [
       "<Figure size 432x288 with 1 Axes>"
      ]
     },
     "metadata": {
      "needs_background": "light"
     },
     "output_type": "display_data"
    }
   ],
   "source": [
    "import numpy as np\n",
    "import matplotlib.pyplot as plt\n",
    "\n",
    "Docs = np.array([[1,1,0,1,0,1],[1,1,1,0,1,0],[1,1,0,1,0,0]])\n",
    "Query = np.array([1,1,0,0,1,0])\n",
    "\n",
    "# 내적\n",
    "res1 = np.dot(Docs[0], Query)\n",
    "res2 = np.dot(Docs[1], Query)\n",
    "res3 = np.dot(Docs[2], Query)\n",
    "\n",
    "\n",
    "res1_1 = sum(np.sqrt(Docs[0] **2))\n",
    "res1_2 = sum(np.sqrt(Docs[1] **2))\n",
    "res1_3 = sum(np.sqrt(Docs[2] **2))\n",
    "\n",
    "res1_1_2 = sum(np.sqrt(Query ** 2))\n",
    "\n",
    "\n",
    "res2_1 = res1 / res1_1\n",
    "res2_2 = res2 / res1_2\n",
    "res2_3 = res3 / res1_3\n",
    "\n",
    "print(res2_1)\n",
    "print(res2_2)\n",
    "print(res2_3)\n",
    "\n",
    "plt.title('Cosine Similities')\n",
    "plt.plot(res2_1, color='skyblue')\n",
    "plt.plot(res2_2, color='skyblue')\n",
    "plt.plot(res2_3, color='skyblue')\n",
    "\n",
    "plt.show()\n"
   ]
  },
  {
   "cell_type": "code",
   "execution_count": null,
   "id": "391ce138",
   "metadata": {},
   "outputs": [],
   "source": []
  }
 ],
 "metadata": {
  "kernelspec": {
   "display_name": "Python 3",
   "language": "python",
   "name": "python3"
  },
  "language_info": {
   "codemirror_mode": {
    "name": "ipython",
    "version": 3
   },
   "file_extension": ".py",
   "mimetype": "text/x-python",
   "name": "python",
   "nbconvert_exporter": "python",
   "pygments_lexer": "ipython3",
   "version": "3.8.8"
  }
 },
 "nbformat": 4,
 "nbformat_minor": 5
}
