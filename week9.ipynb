{
 "cells": [
  {
   "cell_type": "code",
   "execution_count": 1,
   "id": "3c7aaa24",
   "metadata": {},
   "outputs": [
    {
     "name": "stdout",
     "output_type": "stream",
     "text": [
      "3\n",
      "45.0\n"
     ]
    }
   ],
   "source": [
    "x = float(input())\n",
    "y = 3 * (x ** 2) + 5 * x + 3\n",
    "print(y)"
   ]
  },
  {
   "cell_type": "code",
   "execution_count": 2,
   "id": "18daf5b1",
   "metadata": {},
   "outputs": [
    {
     "name": "stdout",
     "output_type": "stream",
     "text": [
      "3\n",
      "원의 둘레 :  18.84 \n",
      "원의 넓이 :  28.26\n"
     ]
    }
   ],
   "source": [
    "r = float(input())\n",
    "pi = 3.14\n",
    "R = 2 * pi * r\n",
    "S = pi * (r ** 2)\n",
    "print(\"원의 둘레 : \", R, \"\\n\"\n",
    "     \"원의 넓이 : \", S)"
   ]
  },
  {
   "cell_type": "code",
   "execution_count": null,
   "id": "a0fd0910",
   "metadata": {},
   "outputs": [],
   "source": []
  }
 ],
 "metadata": {
  "kernelspec": {
   "display_name": "Python 3",
   "language": "python",
   "name": "python3"
  },
  "language_info": {
   "codemirror_mode": {
    "name": "ipython",
    "version": 3
   },
   "file_extension": ".py",
   "mimetype": "text/x-python",
   "name": "python",
   "nbconvert_exporter": "python",
   "pygments_lexer": "ipython3",
   "version": "3.7.4"
  }
 },
 "nbformat": 4,
 "nbformat_minor": 5
}
