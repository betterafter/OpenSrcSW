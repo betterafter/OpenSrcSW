{
 "cells": [
  {
   "cell_type": "code",
   "execution_count": null,
   "id": "3b55df3e",
   "metadata": {},
   "outputs": [],
   "source": [
    "#실습 2-2 : 최댓값 구하기\n",
    "\n",
    "num = list(map(int, input().split()))\n",
    "num.sort(reverse=True)\n",
    "print(num[0])"
   ]
  },
  {
   "cell_type": "code",
   "execution_count": 6,
   "id": "c4079f96",
   "metadata": {},
   "outputs": [
    {
     "name": "stdout",
     "output_type": "stream",
     "text": [
      "암호화 할 문자열을 입력해주세요.abc def\n",
      "efg bcd \n",
      "복호화 할 문자열을 입력해주세요.efg bcd\n",
      "abc def \n"
     ]
    }
   ],
   "source": [
    "#실습 2-3 : 암호화/복호화\n",
    "str = input(\"암호화 할 문자열을 입력해주세요.\").split()\n",
    "str.reverse()\n",
    "res = ''\n",
    "\n",
    "for i in str:\n",
    "    s = ''\n",
    "    for j in i:\n",
    "        j = chr(ord(j) + 1)\n",
    "        s = s + j\n",
    "    res += s\n",
    "    res += ' '\n",
    "        \n",
    "print(res)\n",
    "\n",
    "str2 = input(\"복호화 할 문자열을 입력해주세요.\").split()\n",
    "\n",
    "res2 = []\n",
    "for i in str2:\n",
    "    s = ''\n",
    "    for j in i:\n",
    "        j = chr(ord(j) - 1)\n",
    "        s = s + j\n",
    "    res2.append(s)\n",
    "\n",
    "res2.reverse()\n",
    "res3 = ''\n",
    "for i in res2:\n",
    "    res3 += i\n",
    "    res3 += ' '\n",
    "\n",
    "print(res3)\n"
   ]
  },
  {
   "cell_type": "code",
   "execution_count": 18,
   "id": "72e699d8",
   "metadata": {},
   "outputs": [
    {
     "name": "stdout",
     "output_type": "stream",
     "text": [
      "10명의 전화번호와 이름 순으로 입력해주세요\n",
      "1 번째 사람의 전화번호와 이름\n",
      "010-1234-5678 김철수\n",
      "2 번째 사람의 전화번호와 이름\n",
      "011-234-5678 김길수\n",
      "3 번째 사람의 전화번호와 이름\n",
      "123-456-7890 홍길동\n",
      "4 번째 사람의 전화번호와 이름\n",
      "011-222-1234 신동현\n",
      "5 번째 사람의 전화번호와 이름\n",
      "121-344-5678 김길수\n",
      "6 번째 사람의 전화번호와 이름\n",
      "111-222-3333 차범근\n",
      "7 번째 사람의 전화번호와 이름\n",
      "123-2342-1411 차두리\n",
      "8 번째 사람의 전화번호와 이름\n",
      "010-1211-4567 홍길동\n",
      "9 번째 사람의 전화번호와 이름\n",
      "010-7969-4050 한석원\n",
      "10 번째 사람의 전화번호와 이름\n",
      "019-8900-9930 김경태\n",
      "검색 프로그램입니다. 검색할 방법을 선택해주세요. (1) : 이름으로 찾기  (2) : 전화번호로 찾기\n",
      "1\n",
      "이름을 입력해주세요.\n",
      "김경태\n",
      "이름이  김경태 인 사람의 이름과 전화번호 목록입니다.\n",
      "김경태   019-8900-9930\n",
      "검색 프로그램입니다. 검색할 방법을 선택해주세요. (1) : 이름으로 찾기  (2) : 전화번호로 찾기\n",
      "1\n",
      "이름을 입력해주세요.\n",
      "김철수\n",
      "이름이  김철수 인 사람의 이름과 전화번호 목록입니다.\n",
      "김철수   010-1234-5678\n",
      "검색 프로그램입니다. 검색할 방법을 선택해주세요. (1) : 이름으로 찾기  (2) : 전화번호로 찾기\n",
      "1\n",
      "이름을 입력해주세요.\n",
      "홍길동\n",
      "이름이  홍길동 인 사람의 이름과 전화번호 목록입니다.\n",
      "홍길동   123-456-7890\n",
      "홍길동   010-1211-4567\n",
      "검색 프로그램입니다. 검색할 방법을 선택해주세요. (1) : 이름으로 찾기  (2) : 전화번호로 찾기\n",
      "2\n",
      "전화번호를 입력해주세요.\n",
      "010-7969-4050\n",
      "전화번호  010-7969-4050 의 소유자는  한석원 입니다.\n",
      "검색 프로그램입니다. 검색할 방법을 선택해주세요. (1) : 이름으로 찾기  (2) : 전화번호로 찾기\n",
      "2\n",
      "전화번호를 입력해주세요.\n",
      "ㅇㄴ\n",
      "전화번호  ㅇㄴ 의 소유자는  None 입니다.\n",
      "검색 프로그램입니다. 검색할 방법을 선택해주세요. (1) : 이름으로 찾기  (2) : 전화번호로 찾기\n",
      "quit\n",
      "프로그램을 종료합니다.\n",
      "검색 프로그램입니다. 검색할 방법을 선택해주세요. (1) : 이름으로 찾기  (2) : 전화번호로 찾기\n"
     ]
    },
    {
     "ename": "KeyboardInterrupt",
     "evalue": "Interrupted by user",
     "output_type": "error",
     "traceback": [
      "\u001b[0;31m---------------------------------------------------------------------------\u001b[0m",
      "\u001b[0;31mKeyboardInterrupt\u001b[0m                         Traceback (most recent call last)",
      "\u001b[0;32m<ipython-input-18-051b1a16b994>\u001b[0m in \u001b[0;36m<module>\u001b[0;34m\u001b[0m\n\u001b[1;32m     15\u001b[0m \u001b[0;32mwhile\u001b[0m \u001b[0;36m1\u001b[0m\u001b[0;34m:\u001b[0m\u001b[0;34m\u001b[0m\u001b[0;34m\u001b[0m\u001b[0m\n\u001b[1;32m     16\u001b[0m     \u001b[0mprint\u001b[0m\u001b[0;34m(\u001b[0m\u001b[0;34m\"검색 프로그램입니다. 검색할 방법을 선택해주세요. (1) : 이름으로 찾기  (2) : 전화번호로 찾기\"\u001b[0m\u001b[0;34m)\u001b[0m\u001b[0;34m\u001b[0m\u001b[0;34m\u001b[0m\u001b[0m\n\u001b[0;32m---> 17\u001b[0;31m     \u001b[0mtype\u001b[0m \u001b[0;34m=\u001b[0m \u001b[0minput\u001b[0m\u001b[0;34m(\u001b[0m\u001b[0;34m)\u001b[0m\u001b[0;34m\u001b[0m\u001b[0;34m\u001b[0m\u001b[0m\n\u001b[0m\u001b[1;32m     18\u001b[0m     \u001b[0;32mif\u001b[0m \u001b[0mtype\u001b[0m \u001b[0;34m==\u001b[0m \u001b[0;34m\"1\"\u001b[0m \u001b[0;34m:\u001b[0m\u001b[0;34m\u001b[0m\u001b[0;34m\u001b[0m\u001b[0m\n\u001b[1;32m     19\u001b[0m         \u001b[0mprint\u001b[0m\u001b[0;34m(\u001b[0m\u001b[0;34m\"이름을 입력해주세요.\"\u001b[0m\u001b[0;34m)\u001b[0m\u001b[0;34m\u001b[0m\u001b[0;34m\u001b[0m\u001b[0m\n",
      "\u001b[0;32m/Library/Frameworks/Python.framework/Versions/3.7/lib/python3.7/site-packages/ipykernel/kernelbase.py\u001b[0m in \u001b[0;36mraw_input\u001b[0;34m(self, prompt)\u001b[0m\n\u001b[1;32m    849\u001b[0m             \u001b[0mself\u001b[0m\u001b[0;34m.\u001b[0m\u001b[0m_parent_ident\u001b[0m\u001b[0;34m,\u001b[0m\u001b[0;34m\u001b[0m\u001b[0;34m\u001b[0m\u001b[0m\n\u001b[1;32m    850\u001b[0m             \u001b[0mself\u001b[0m\u001b[0;34m.\u001b[0m\u001b[0m_parent_header\u001b[0m\u001b[0;34m,\u001b[0m\u001b[0;34m\u001b[0m\u001b[0;34m\u001b[0m\u001b[0m\n\u001b[0;32m--> 851\u001b[0;31m             \u001b[0mpassword\u001b[0m\u001b[0;34m=\u001b[0m\u001b[0;32mFalse\u001b[0m\u001b[0;34m,\u001b[0m\u001b[0;34m\u001b[0m\u001b[0;34m\u001b[0m\u001b[0m\n\u001b[0m\u001b[1;32m    852\u001b[0m         )\n\u001b[1;32m    853\u001b[0m \u001b[0;34m\u001b[0m\u001b[0m\n",
      "\u001b[0;32m/Library/Frameworks/Python.framework/Versions/3.7/lib/python3.7/site-packages/ipykernel/kernelbase.py\u001b[0m in \u001b[0;36m_input_request\u001b[0;34m(self, prompt, ident, parent, password)\u001b[0m\n\u001b[1;32m    890\u001b[0m             \u001b[0;32mexcept\u001b[0m \u001b[0mKeyboardInterrupt\u001b[0m\u001b[0;34m:\u001b[0m\u001b[0;34m\u001b[0m\u001b[0;34m\u001b[0m\u001b[0m\n\u001b[1;32m    891\u001b[0m                 \u001b[0;31m# re-raise KeyboardInterrupt, to truncate traceback\u001b[0m\u001b[0;34m\u001b[0m\u001b[0;34m\u001b[0m\u001b[0;34m\u001b[0m\u001b[0m\n\u001b[0;32m--> 892\u001b[0;31m                 \u001b[0;32mraise\u001b[0m \u001b[0mKeyboardInterrupt\u001b[0m\u001b[0;34m(\u001b[0m\u001b[0;34m\"Interrupted by user\"\u001b[0m\u001b[0;34m)\u001b[0m \u001b[0;32mfrom\u001b[0m \u001b[0;32mNone\u001b[0m\u001b[0;34m\u001b[0m\u001b[0;34m\u001b[0m\u001b[0m\n\u001b[0m\u001b[1;32m    893\u001b[0m             \u001b[0;32mexcept\u001b[0m \u001b[0mException\u001b[0m \u001b[0;32mas\u001b[0m \u001b[0me\u001b[0m\u001b[0;34m:\u001b[0m\u001b[0;34m\u001b[0m\u001b[0;34m\u001b[0m\u001b[0m\n\u001b[1;32m    894\u001b[0m                 \u001b[0mself\u001b[0m\u001b[0;34m.\u001b[0m\u001b[0mlog\u001b[0m\u001b[0;34m.\u001b[0m\u001b[0mwarning\u001b[0m\u001b[0;34m(\u001b[0m\u001b[0;34m\"Invalid Message:\"\u001b[0m\u001b[0;34m,\u001b[0m \u001b[0mexc_info\u001b[0m\u001b[0;34m=\u001b[0m\u001b[0;32mTrue\u001b[0m\u001b[0;34m)\u001b[0m\u001b[0;34m\u001b[0m\u001b[0;34m\u001b[0m\u001b[0m\n",
      "\u001b[0;31mKeyboardInterrupt\u001b[0m: Interrupted by user"
     ]
    }
   ],
   "source": [
    "#실습 2-4 : 전화번호부\n",
    "print(\"10명의 전화번호와 이름 순으로 입력해주세요\")\n",
    "d = dict()\n",
    "for i in range(10):\n",
    "    while 1:\n",
    "        print(i + 1, \"번째 사람의 전화번호와 이름\")\n",
    "        str = input().split()\n",
    "        if len(str) != 2:\n",
    "            print(\"잘못 입력했습니다. 다시 입력해주세요.\")\n",
    "        elif d.__contains__(str[0]):\n",
    "            print(\"이미 존재하는 전화번호입니다. 다시 입력해주세요.\")\n",
    "        else:\n",
    "            d[str[0]] = str[1]\n",
    "            break\n",
    "\n",
    "while 1:\n",
    "    print(\"검색 프로그램입니다. 검색할 방법을 선택해주세요. (1) : 이름으로 찾기  (2) : 전화번호로 찾기\")\n",
    "    type = input()\n",
    "    if type == \"1\" :\n",
    "        print(\"이름을 입력해주세요.\")\n",
    "        name = input()\n",
    "        print(\"이름이 \", name, \"인 사람의 이름과 전화번호 목록입니다.\")\n",
    "        for key in d:\n",
    "            if d[key] == name:\n",
    "                print(name, \" \", key)\n",
    "    elif type == \"2\":\n",
    "        print(\"전화번호를 입력해주세요.\")\n",
    "        number = input()\n",
    "        print(\"전화번호 \", number, \"의 소유자는 \", d.get(number), \"입니다.\")\n",
    "    elif type == \"quit\":\n",
    "        print(\"프로그램을 종료합니다.\")\n",
    "        break\n",
    "    else :\n",
    "        print(\"잘못 입력하셨습니다. 다시 한번 입력해주세요.\")\n",
    "\n",
    "\n",
    "\n",
    "    "
   ]
  },
  {
   "cell_type": "code",
   "execution_count": null,
   "id": "eca30d82",
   "metadata": {},
   "outputs": [],
   "source": []
  },
  {
   "cell_type": "code",
   "execution_count": null,
   "id": "e6849e0d",
   "metadata": {},
   "outputs": [],
   "source": []
  },
  {
   "cell_type": "code",
   "execution_count": null,
   "id": "639495fb",
   "metadata": {},
   "outputs": [],
   "source": []
  }
 ],
 "metadata": {
  "kernelspec": {
   "display_name": "Python 3",
   "language": "python",
   "name": "python3"
  },
  "language_info": {
   "codemirror_mode": {
    "name": "ipython",
    "version": 3
   },
   "file_extension": ".py",
   "mimetype": "text/x-python",
   "name": "python",
   "nbconvert_exporter": "python",
   "pygments_lexer": "ipython3",
   "version": "3.7.4"
  }
 },
 "nbformat": 4,
 "nbformat_minor": 5
}
